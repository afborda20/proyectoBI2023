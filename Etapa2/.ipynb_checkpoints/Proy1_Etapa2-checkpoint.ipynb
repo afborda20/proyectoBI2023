{
 "cells": [
  {
   "cell_type": "markdown",
   "id": "5470a4e1-29b6-4af5-87de-2dfad5388afb",
   "metadata": {},
   "source": [
    "# Pipeline"
   ]
  },
  {
   "cell_type": "code",
   "execution_count": 2,
   "id": "b3aecf75-2af8-4f8a-90aa-50535dab7f63",
   "metadata": {},
   "outputs": [
    {
     "name": "stdout",
     "output_type": "stream",
     "text": [
      "Requirement already satisfied: num2words in c:\\users\\andre\\anaconda3\\lib\\site-packages (0.5.12)\n",
      "Requirement already satisfied: docopt>=0.6.2 in c:\\users\\andre\\anaconda3\\lib\\site-packages (from num2words) (0.6.2)\n",
      "Requirement already satisfied: langdetect in c:\\users\\andre\\anaconda3\\lib\\site-packages (1.0.9)\n",
      "Requirement already satisfied: six in c:\\users\\andre\\anaconda3\\lib\\site-packages (from langdetect) (1.16.0)\n",
      "Requirement already satisfied: stanza in c:\\users\\andre\\anaconda3\\lib\\site-packages (1.6.1)\n",
      "Requirement already satisfied: torch>=1.3.0 in c:\\users\\andre\\anaconda3\\lib\\site-packages (from stanza) (2.1.0)\n",
      "Requirement already satisfied: requests in c:\\users\\andre\\anaconda3\\lib\\site-packages (from stanza) (2.28.1)\n",
      "Requirement already satisfied: numpy in c:\\users\\andre\\anaconda3\\lib\\site-packages (from stanza) (1.21.5)\n",
      "Requirement already satisfied: protobuf>=3.15.0 in c:\\users\\andre\\anaconda3\\lib\\site-packages (from stanza) (4.24.4)\n",
      "Requirement already satisfied: tqdm in c:\\users\\andre\\anaconda3\\lib\\site-packages (from stanza) (4.64.1)\n",
      "Requirement already satisfied: emoji in c:\\users\\andre\\anaconda3\\lib\\site-packages (from stanza) (2.8.0)\n",
      "Requirement already satisfied: sympy in c:\\users\\andre\\anaconda3\\lib\\site-packages (from torch>=1.3.0->stanza) (1.10.1)\n",
      "Requirement already satisfied: fsspec in c:\\users\\andre\\anaconda3\\lib\\site-packages (from torch>=1.3.0->stanza) (2022.7.1)\n",
      "Requirement already satisfied: typing-extensions in c:\\users\\andre\\anaconda3\\lib\\site-packages (from torch>=1.3.0->stanza) (4.3.0)\n",
      "Requirement already satisfied: networkx in c:\\users\\andre\\anaconda3\\lib\\site-packages (from torch>=1.3.0->stanza) (2.8.4)\n",
      "Requirement already satisfied: jinja2 in c:\\users\\andre\\anaconda3\\lib\\site-packages (from torch>=1.3.0->stanza) (2.11.3)\n",
      "Requirement already satisfied: filelock in c:\\users\\andre\\anaconda3\\lib\\site-packages (from torch>=1.3.0->stanza) (3.6.0)\n",
      "Requirement already satisfied: idna<4,>=2.5 in c:\\users\\andre\\anaconda3\\lib\\site-packages (from requests->stanza) (3.3)\n",
      "Requirement already satisfied: certifi>=2017.4.17 in c:\\users\\andre\\anaconda3\\lib\\site-packages (from requests->stanza) (2022.9.14)\n",
      "Requirement already satisfied: charset-normalizer<3,>=2 in c:\\users\\andre\\anaconda3\\lib\\site-packages (from requests->stanza) (2.0.4)\n",
      "Requirement already satisfied: urllib3<1.27,>=1.21.1 in c:\\users\\andre\\anaconda3\\lib\\site-packages (from requests->stanza) (1.26.11)\n",
      "Requirement already satisfied: colorama in c:\\users\\andre\\anaconda3\\lib\\site-packages (from tqdm->stanza) (0.4.5)\n",
      "Requirement already satisfied: MarkupSafe>=0.23 in c:\\users\\andre\\anaconda3\\lib\\site-packages (from jinja2->torch>=1.3.0->stanza) (2.0.1)\n",
      "Requirement already satisfied: mpmath>=0.19 in c:\\users\\andre\\anaconda3\\lib\\site-packages (from sympy->torch>=1.3.0->stanza) (1.2.1)\n"
     ]
    }
   ],
   "source": [
    "#Instalaciones\n",
    "\n",
    "#Libreria para remplazar numeros por palabras\n",
    "!pip install num2words\n",
    "#Instalar  pandas profiler\n",
    "#!pip install pandas-profiling==2.7.1\n",
    "#deteccion de lenguaje para eliminar entradas que no esten en español\n",
    "!pip install langdetect\n",
    "#Procesamientno de lenguaje natural en español\n",
    "!pip install stanza"
   ]
  },
  {
   "cell_type": "code",
   "execution_count": 3,
   "id": "1cdce2af-087e-4934-8bb7-59e377714aa7",
   "metadata": {},
   "outputs": [
    {
     "data": {
      "application/vnd.jupyter.widget-view+json": {
       "model_id": "51fb21468c944b98935a2d141ba9e814",
       "version_major": 2,
       "version_minor": 0
      },
      "text/plain": [
       "Downloading https://raw.githubusercontent.com/stanfordnlp/stanza-resources/main/resources_1.6.0.json:   0%|   …"
      ]
     },
     "metadata": {},
     "output_type": "display_data"
    },
    {
     "name": "stderr",
     "output_type": "stream",
     "text": [
      "2023-10-26 09:43:11 INFO: Downloading default packages for language: es (Spanish) ...\n",
      "2023-10-26 09:43:13 INFO: File exists: C:\\Users\\andre\\stanza_resources\\es\\default.zip\n",
      "2023-10-26 09:43:16 INFO: Finished downloading models and saved to C:\\Users\\andre\\stanza_resources.\n",
      "[nltk_data] Downloading package stopwords to\n",
      "[nltk_data]     C:\\Users\\andre\\AppData\\Roaming\\nltk_data...\n",
      "[nltk_data]   Package stopwords is already up-to-date!\n"
     ]
    }
   ],
   "source": [
    "#imports para procesamiento de texto\n",
    "\n",
    "#tokenizacion y lematizacion\n",
    "import stanza\n",
    "#Para integrar pasos de la limpieza adicionales\n",
    "from stanza.pipeline.processor import Processor, register_processor\n",
    "#paquete español\n",
    "stanza.download('es')\n",
    "\n",
    "#Para manejo de numeros, singluares, plurarles en lenguaje\n",
    "from num2words import num2words\n",
    "#Deteccion de lenguaje\n",
    "from langdetect import detect\n",
    "# librería Natural Language Toolkit, usada para trabajar con textos\n",
    "import nltk\n",
    "# Punkt permite separar un texto en frases.\n",
    "nltk.download('stopwords')\n",
    "from nltk.corpus import stopwords\n",
    "\n",
    "#Operaciones con expresiones regulares y unicode\n",
    "import re, string, unicodedata"
   ]
  },
  {
   "cell_type": "code",
   "execution_count": 4,
   "id": "b4f06c1e-011d-4841-9a42-9ecb2eb612a5",
   "metadata": {},
   "outputs": [
    {
     "name": "stderr",
     "output_type": "stream",
     "text": [
      "C:\\Users\\andre\\AppData\\Local\\Temp\\ipykernel_14752\\122007551.py:5: DeprecationWarning: `import pandas_profiling` is going to be deprecated by April 1st. Please use `import ydata_profiling` instead.\n",
      "  from pandas_profiling import ProfileReport\n"
     ]
    }
   ],
   "source": [
    "#Imports generales para analisis de datos y ML\n",
    "import pandas as pd\n",
    "import numpy as np\n",
    "import sys\n",
    "from pandas_profiling import ProfileReport\n",
    "import statistics\n",
    "\n",
    "import sklearn\n",
    "from sklearn.feature_extraction.text import TfidfTransformer\n",
    "from sklearn.feature_extraction.text import TfidfVectorizer\n",
    "\n",
    "from sklearn.model_selection import KFold\n",
    "from sklearn.model_selection import GridSearchCV\n",
    "from sklearn.metrics import accuracy_score, precision_score, recall_score, f1_score, confusion_matrix, classification_report\n",
    "\n",
    "from sklearn.naive_bayes import MultinomialNB\n",
    "from sklearn.ensemble import RandomForestClassifier"
   ]
  },
  {
   "cell_type": "markdown",
   "id": "1f49cc60-c1c5-43a5-badb-b889d440b08b",
   "metadata": {},
   "source": [
    "## 1. Lectura de los datos"
   ]
  },
  {
   "cell_type": "code",
   "execution_count": null,
   "id": "aa20de74-4d8d-4527-8371-64e8b9fe2e37",
   "metadata": {},
   "outputs": [],
   "source": [
    "# Lectura de los datos.\n",
    "df_ODS = pd.read_excel(\"cat_6716.xlsx\")\n",
    "\n",
    "df_ODS.head()"
   ]
  },
  {
   "cell_type": "code",
   "execution_count": null,
   "id": "418cdb3e-26b4-4808-adb0-4d20ba248a82",
   "metadata": {},
   "outputs": [],
   "source": [
    "from sklearn.pipeline import Pipeline\n",
    "from sklearn.base import BaseEstimator, TransformerMixin"
   ]
  },
  {
   "cell_type": "code",
   "execution_count": null,
   "id": "33235196-9dae-4b44-96e6-ed67c6f4912f",
   "metadata": {},
   "outputs": [],
   "source": [
    "class CustomPreprocessor(BaseEstimator, TransformerMixin):\n",
    "    def init(self):\n",
    "        pass\n",
    "\n",
    "    def fit(self, X, y=None):\n",
    "        return self\n",
    "\n",
    "    def transform(self, X):\n",
    "\n",
    "        X_processed = self.customPreprocessing(X)\n",
    "        #Retornar los datos\n",
    "        return X_processed\n",
    "    \n",
    "    #Remplaza los numeros por su representacion en palabras\n",
    "    def replace_numbers(words):\n",
    "        \"\"\"Replace all interger occurrences in list of tokenized words with textual representation\"\"\"\n",
    "        new_words = []\n",
    "        for word in words:\n",
    "            if word.isdigit():\n",
    "                new_word = num2words(word, lang='es')\n",
    "                new_words.append(new_word)\n",
    "            else:\n",
    "                new_words.append(word)\n",
    "        return new_words\n",
    "    #Remueve todo caracter no latino (conserva espacios y numeros)\n",
    "    def remove_nonlatin(words):\n",
    "      new_words = []\n",
    "      for word in words:\n",
    "        new_word = ''\n",
    "        for ch in word:\n",
    "          if unicodedata.name(ch).startswith(('LATIN', 'DIGIT', 'SPACE')):\n",
    "            new_word += ch\n",
    "        new_words.append(new_word)\n",
    "      return new_words\n",
    "\n",
    "    #Remueve palabras comunes que no aportan informacion\n",
    "    def remove_stopwords(words):\n",
    "        \"\"\"Remove stop words from list of tokenized words\"\"\"\n",
    "        new_words = []\n",
    "        s = set(stopwords.words('spanish'))\n",
    "        for word in words:\n",
    "            if word not in s:\n",
    "                new_words.append(word)\n",
    "        return new_words\n",
    "\n",
    "    #Remueve puntuacion\n",
    "    def remove_punctuation(words):\n",
    "        \"\"\"Remove punctuation from list of tokenized words\"\"\"\n",
    "        new_words = ''\n",
    "        for word in words:\n",
    "                new_words += re.sub(r'[^\\w\\s]', ' ', word)\n",
    "        return new_words\n",
    "\n",
    "     #Procesamiento de cada review usando stanza\n",
    "    def tokenLemma(self, data):\n",
    "      data['words'] = data['Textos_espanol'].apply(remove_punctuation)\n",
    "      #Creamos un pipeline para tokenizacion y lematizacion\n",
    "      nlp = stanza.Pipeline('es', processors = 'tokenize,mwt,pos,lemma', use_gpu=True)\n",
    "      in_docs = [stanza.Document([], text=d) for d in data.words]\n",
    "      return nlp(in_docs)\n",
    "\n",
    "    #Funcion secundaria para procesar cada token\n",
    "    def procesamientoPalabras(words):\n",
    "        words = remove_nonlatin(words)\n",
    "        words = replace_numbers(words)\n",
    "        words = remove_stopwords(words)\n",
    "        return words\n",
    "\n",
    "    #Funcion principal para el pre-procesamiento\n",
    "    def customPreprocessing(self, data):\n",
    "        out_docs = self.tokenLemma(data)\n",
    "        palabras = []\n",
    "\n",
    "        for doc in out_docs:\n",
    "            reviewAct = []\n",
    "            for sentence in doc.sentences:\n",
    "              for word in sentence.words:\n",
    "                if(word.pos != 'PUNCT' and word.pos != 'SYM'):\n",
    "                  reviewAct.append(word.lemma.lower())\n",
    "            palabras.append(reviewAct)\n",
    "        \n",
    "        data['words'] = palabras\n",
    "        data['words'] = data['words'].apply(procesamientoPalabras)\n",
    "        return data\n"
   ]
  },
  {
   "cell_type": "code",
   "execution_count": null,
   "id": "f0534e65-20c8-4f28-8056-ba37db1773ac",
   "metadata": {},
   "outputs": [],
   "source": [
    "class CustomRegression(BaseEstimator, TransformerMixin):\n",
    "    def init(self):\n",
    "        self.model = None\n",
    "        \n",
    "    def fit(self, X, y=None):\n",
    "                \n",
    "        X['words'] = X['words'].apply(lambda x: ' '.join(map(str, x)))\n",
    "        \n",
    "        #Separación de los datos en conjunto de test y train\n",
    "        X = X.drop('Textos_espanol', axis = 1)\n",
    "        df_train, df_test = sklearn.model_selection.train_test_split(X, test_size=0.2, random_state=0)\n",
    "\n",
    "        X_train = df_train['words']\n",
    "        y_train = df_train['sdg']\n",
    "\n",
    "        X_test = df_test['words']\n",
    "        y_test = df_test['sdg']\n",
    "        \n",
    "        #Vectorizar los datos con Tfid\n",
    "        vectorizer = TfidfVectorizer()\n",
    "        train_vectors = vectorizer.fit_transform(X_train)\n",
    "        test_vectors = vectorizer.transform(X_test)        \n",
    "        \n",
    "        \n",
    "        #logreg = LogisticRegression(penalty='l2', C=10000000000.0, solver='newton-cg')\n",
    "        logreg = LogisticRegression()\n",
    "\n",
    "\n",
    "        modelo = logreg.fit(train_vectors, y_train)\n",
    "                \n",
    "        self.model = modelo\n",
    "        \n",
    "        return self\n",
    "\n",
    "    def transform(self, X):        \n",
    "\n",
    "        return X"
   ]
  },
  {
   "cell_type": "code",
   "execution_count": null,
   "id": "5936a6e2-4967-4f93-8928-e174a370db54",
   "metadata": {},
   "outputs": [],
   "source": [
    "custom_preprocessor = CustomPreprocessor()\n",
    "custom_regression = CustomRegression()\n",
    "pipeline = Pipeline(\n",
    "    [\n",
    "        (\"processing\", custom_preprocessor),\n",
    "        (\"model\", custom_regression)\n",
    "    ]\n",
    ")"
   ]
  },
  {
   "cell_type": "code",
   "execution_count": null,
   "id": "5d57ebee-28f6-456e-83b9-592c6313c913",
   "metadata": {},
   "outputs": [],
   "source": [
    "# Ajusta el modelo en tus datos transformados\n",
    "pipeline.fit(df_ODS)"
   ]
  },
  {
   "cell_type": "code",
   "execution_count": null,
   "id": "10b6d2e4-bd91-4e86-813a-090034c079fa",
   "metadata": {},
   "outputs": [],
   "source": [
    "reg = pipeline[\"model\"].model\n"
   ]
  },
  {
   "cell_type": "code",
   "execution_count": null,
   "id": "a11b2caa-3883-413a-89ca-ed3cea8f4cd7",
   "metadata": {},
   "outputs": [],
   "source": [
    "y_pred = reg.predict(test_vectors)"
   ]
  },
  {
   "cell_type": "code",
   "execution_count": null,
   "id": "2413e7d5-99fd-447d-a073-312da577b942",
   "metadata": {},
   "outputs": [],
   "source": []
  }
 ],
 "metadata": {
  "kernelspec": {
   "display_name": "Python 3 (ipykernel)",
   "language": "python",
   "name": "python3"
  },
  "language_info": {
   "codemirror_mode": {
    "name": "ipython",
    "version": 3
   },
   "file_extension": ".py",
   "mimetype": "text/x-python",
   "name": "python",
   "nbconvert_exporter": "python",
   "pygments_lexer": "ipython3",
   "version": "3.9.13"
  }
 },
 "nbformat": 4,
 "nbformat_minor": 5
}
